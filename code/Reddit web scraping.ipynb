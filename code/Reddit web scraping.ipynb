{
 "cells": [
  {
   "cell_type": "code",
   "execution_count": 2,
   "metadata": {},
   "outputs": [
    {
     "name": "stdout",
     "output_type": "stream",
     "text": [
      "Collecting praw\n",
      "  Downloading https://files.pythonhosted.org/packages/81/6a/21bc058bcccbe03f6a0895bf1bd60c805f0c526aa4e9bfaac775ed0b299c/praw-7.7.1-py3-none-any.whl (191kB)\n",
      "Collecting update-checker>=0.18 (from praw)\n",
      "  Downloading https://files.pythonhosted.org/packages/0c/ba/8dd7fa5f0b1c6a8ac62f8f57f7e794160c1f86f31c6d0fb00f582372a3e4/update_checker-0.18.0-py3-none-any.whl\n",
      "Collecting websocket-client>=0.54.0 (from praw)\n",
      "  Downloading https://files.pythonhosted.org/packages/d3/a3/63e9329c8cc9be6153e919e17d0ef5b60d537fed78564872951b95bcc17c/websocket_client-1.6.1-py3-none-any.whl (56kB)\n",
      "Collecting prawcore<3,>=2.1 (from praw)\n",
      "  Downloading https://files.pythonhosted.org/packages/d6/36/55cc2cab22aafbebd52ddac4ccb670b920b54eb6ddbdb8573c79ca870d8a/prawcore-2.3.0-py3-none-any.whl\n",
      "Requirement already satisfied: requests>=2.3.0 in c:\\users\\user\\anaconda3\\lib\\site-packages (from update-checker>=0.18->praw) (2.21.0)\n",
      "Requirement already satisfied: certifi>=2017.4.17 in c:\\users\\user\\anaconda3\\lib\\site-packages (from requests>=2.3.0->update-checker>=0.18->praw) (2019.3.9)\n",
      "Requirement already satisfied: idna<2.9,>=2.5 in c:\\users\\user\\anaconda3\\lib\\site-packages (from requests>=2.3.0->update-checker>=0.18->praw) (2.8)\n",
      "Requirement already satisfied: chardet<3.1.0,>=3.0.2 in c:\\users\\user\\anaconda3\\lib\\site-packages (from requests>=2.3.0->update-checker>=0.18->praw) (3.0.4)\n",
      "Requirement already satisfied: urllib3<1.25,>=1.21.1 in c:\\users\\user\\anaconda3\\lib\\site-packages (from requests>=2.3.0->update-checker>=0.18->praw) (1.24.1)\n",
      "Installing collected packages: update-checker, websocket-client, prawcore, praw\n",
      "Successfully installed praw-7.7.1 prawcore-2.3.0 update-checker-0.18.0 websocket-client-1.6.1\n"
     ]
    }
   ],
   "source": [
    "#install praw \n",
    "!pip install praw"
   ]
  },
  {
   "cell_type": "code",
   "execution_count": 1,
   "metadata": {},
   "outputs": [
    {
     "name": "stderr",
     "output_type": "stream",
     "text": [
      "C:\\Users\\USER\\Anaconda3\\lib\\site-packages\\pandas\\compat\\_optional.py:138: UserWarning: Pandas requires version '2.7.0' or newer of 'numexpr' (version '2.6.9' currently installed).\n",
      "  warnings.warn(msg, UserWarning)\n"
     ]
    }
   ],
   "source": [
    "import praw\n",
    "import pandas as pd\n",
    "import numpy as np\n",
    "from pprint import pprint\n",
    "import matplotlib.pyplot as plt\n",
    "import seaborn as sns\n",
    "\n",
    "# To ignore warnings\n",
    "import warnings\n",
    "warnings.filterwarnings(\"ignore\")"
   ]
  },
  {
   "cell_type": "code",
   "execution_count": 2,
   "metadata": {},
   "outputs": [
    {
     "name": "stderr",
     "output_type": "stream",
     "text": [
      "[nltk_data] Downloading package vader_lexicon to\n",
      "[nltk_data]     C:\\Users\\USER\\AppData\\Roaming\\nltk_data...\n",
      "[nltk_data]   Package vader_lexicon is already up-to-date!\n"
     ]
    },
    {
     "data": {
      "text/plain": [
       "True"
      ]
     },
     "execution_count": 2,
     "metadata": {},
     "output_type": "execute_result"
    }
   ],
   "source": [
    "import nltk\n",
    "nltk.download('vader_lexicon')"
   ]
  },
  {
   "cell_type": "code",
   "execution_count": 3,
   "metadata": {},
   "outputs": [],
   "source": [
    "#user_agent=\"Scraper 1.0 by /u/python_engineer\"\n",
    "reddit= praw.Reddit(\n",
    "    client_id=\"waynXfbIaGZa1L49yPT3jQ\",\n",
    "    client_secret=\"ocfSyZ92xFuDyPiZjQl7GWDdJ1qzBQ\",\n",
    "    user_agent=\"Example\"\n",
    ")"
   ]
  },
  {
   "cell_type": "code",
   "execution_count": 4,
   "metadata": {},
   "outputs": [],
   "source": [
    "headlines=set()\n",
    "for sub in reddit.subreddit('time').hot(limit=None):\n",
    "    headlines.add(sub.title)"
   ]
  },
  {
   "cell_type": "code",
   "execution_count": 5,
   "metadata": {},
   "outputs": [
    {
     "name": "stdout",
     "output_type": "stream",
     "text": [
      "{'Time-Lapse | dandelion faded seeds', 'Time is not an illusion. It’s an object with physical size | Aeon Essays', 'Reason why the ability to stop time is terrible', 'If you think about it !', 'Metabolic Process and time… if u stand on side a black hole or approach light speed time will slow down for you. So my question is will the metabolic processes that make us age know that we are on side of a black hole or approaching light speed?', 'Ferrofluid Clock- Basically, the clock manipulates ferrofluid–a magnetic liquid first discovered by NASA scientists in the 1960s–with magnets to display patterns on a clock.', 'Why Do We Have Leap Years with Paul Sutter', 'Celestial Astrology In Modern Times', 'My foot imprint on my shoe', 'Time passing', 'time-themed podcast recommendations', 'Which looks better>', 'An effective time management strategy for business success', '2.2.22 2:22:22', 'The Race for Nuclear Time – Scientists Make Important Advance', 'Freaked out about time passing.', 'LoFi 🔴 Pomodoro Technique (Study Music) Timer 25 x 5 Minute - 8 Cycles 4...', \"Which UTC+0 locations are static; don't observe DST?\", '9 Hour Timer 🎹 Relaxing Piano Music (Soft Alarm 1 Hour) For Relaxing, Fo...', 'Living and working in different timezones', 'Theoretical Physicist Brian Greene Explains Time in 5 Levels of Difficulty | Wired- Debunked -Part 2', 'If clocks were never invented would there be time?', \"What's the record??\", 'I have a question about time.', 'I have reached the end.', \"It's a kind of magic !\", 'Then There Was Time', 'Here is my Time Camera', 'In honor of Autism Awareness month, here is a story about a remarkable woman and an equally remarkable man trying to cope with their world -- and thru opposing circumstances find each other. Please enjoy: \"Make Time Stop\" - a short story.', 'Is the use of technology (GPS) benefiting us and others?', 'Blue Orca: Awakening', \"It's time to d-d-d-d-d-d-d-duel!\", \"Physicists harness quantum 'time reversal' to measure vibrating atoms\", 'I am followed by 06:06 and 22:22', 'I failed :(', '3 Theories of Time Travel', 'I hate time ', 'Different Time os Different Devices.', 'Hi can you tell me how many days this is?', 'Time is just an illusion (trick revealed)', 'Quasar Watch: Chronos Reveals Time Ran Slower in the Early Universe', 'Why \"Time passing\" is Just The Passage of the Day and Year', 'When do the clocks go back? Big Ben prepares for first change in five years', 'How do you time travel from your backyard?', 'lol', 'Chance to win a 50€ (53 USD/ 71 CAD/ 43 GBP) Amazon voucher - 8 minute study about time spent in paid an unpaid labor (everyone)', 'How do I pick a year for a time machine?', 'if time on earth is relative to the rotational axis in reference to the sun', \"Aristotle believed that the Time doesn't exist!\", 'Regarding the beginning of time', 'The hours of a day divided in fractions', 'Time can heal all wounds but time can leave the nastiest scars', 'If time is a human made concept..', 'Is it just me or have we been experiencing much shorter days? Time has been moving a lot faster than normal in the past two years…', 'Space and Time', 'What The Frick?: Time Travel', 'No Need for Time Zones. Abolish.', 'Math thoughts on time.', 'Technology as the accelerator of time', 'Time Passes', 'Do Past Events Become Further Past?', 'watch it', 'Your children can see you', 'A lot compacted into a short piece of work. Time is temporal by Design; the reason not to waste it.', 'YouTubers in 1944', 'Does time ever stop', 'All the Gold in Fort Knox', 'Peter Lorre defines time • Beat The Devil • 1953', 'The Art Of Misdirection With The Illusion Of Time', 'What is time ?', 'TimeSocial can help you Earn $500 Daily', 'How much do you value the biggest resource you have - time', 'They Found a Time Capsule 😱', 'World Time Zone Map, World Timezone Map, Global Time Zone Map, International Time Zone Map', 'Future Career', 'Does time exist throughout the universe?', 'so question- I saw my clock on my phone today go from 9:58 to 9:57. I looked around all the other clocks in my house and they were 9:57 as well. Is it possible I time travelled?', \"It's so late it's 00:00 on Sunday 1 Jan 2023\", 'Here comes that time of year again.', \"It's been 8 years already\", 'New research published in the journal Communications Physics suggests that the flow of time at a quantum level doesn’t have to go in just one direction. Quantum systems, in certain conditions, might move both forward and backward in time.', 'any good scientific book about time you can recommend? (no sci-fi or something like that)', 'Dive into the Mystery of Time', 'the years are rushing by', 'Lost time is never found again. – Benjamin Franklin', 'I need some social life', 'The Illusion Time', 'Why is time called time?', 'Price Ardelean (@alin_ardelean_price) • Instagram photos and videos', 'Green Light Spacial – A4 by zi_Wil', '7:20', 'Can any time enthusiast tell me what this means? From what times is it restricted', 'The Theory Of The Superman : Beyond Pain', 'Time', 'dates should be written in the year-day_of_year format.', 'can you travel back in time?', 'What are your thoughts on internet time?', 'Defining Time', 'I wasted some time doing this and I’m proud', 'The “present” can never be experienced.', 'Have you ever thought about why time is such an annoying concept?', 'when people say “ i’ll be there in a little bit” wtf how long is that ??', 'A New Lunar Time Zone: White House Directs NASA', 'The Growing Block', 'Astronomers observe time dilation in early universe. Events appeared to unfold five times slower when the universe was a mere 1bn years old, or about a tenth of its present age, because of the way the expansion of the universe stretches time.', 'Would changing my clock one hour ahead seriously screw with my reality?', 'Time is a Wheel, Time is an Arrow', 'That’s the time', '13 Ways To Boost Your Time Management Skills', 'Illusion of time', 'Ticking away the moments that make up a dull day', 'time will consume everything', 'Time is scary', 'About time', 'Cool Guide for going back in time.', 'Brian Greene Explains the Physics of Time', 'I don’t know what I experienced in my dream. But idk if it was a dream', 'Hindu perspective on time', 'No one talks about metric time', 'A terrible problem', 'What the heck!!!! people from 2010 are 12 years old??? I am really very old 😳', \"Why is causality attributed to time when it's the 4 fundamental forces of nature i.e gravity, electromagnetism and the weak and strong nuclear force that's responsible for every interaction in the universe.\", 'I set up an experiment in a time dilating cave', 'I think my grandpa’s house is stuck in 1982', 'IERS says no leap second in June 2022', \"Chronos cutting Cupid's Wings\", \"You can travel in the future , but can't travel in the past ?\", 'What is the right time? ', 'Study about time management when time is lost (everyone who has experience working a paid job)', 'What causes the universe to vibrate. Stasis or motion?', 'Time… takes time…', 'What life advice do people not take seriously enough: TIME', 'Relaxing Clock Ticking ASMR | Transcend Time and Unlock Deep Sleep Enlightenment [4 Hours]', \"'Quantum time flip' makes light move simultaneously forward and backward in time\", 'Time management in college students', 'Irl, We are living with a different idea of what The! Timeline ls', 'more time, more money?!', 'How to Multiply Your Time In NYC', 'Instead of hording time, share it.', 'my perspective on why we seem to experience time.', 'It’s 11:52', 'What I wish I had known. The amazing love for my babies.', 'Language and time', 'Chronopolitics and ‘Time Wars’', 'Time-hack part 2: preventing time from speeding up without music (for people who work at home)', 'And you are right on time.', 'I’ve been on Reddit for almost a year.', 'People born in 2018 will become or became 5 this year', 'Figuring out the base, or the electron, for proper time inspections.', 'Deep Time Sickness | In Mexico, people who are “tocado” — “touched” — reveal that geological time can emerge through fissures in the land to alter the way we relate to our homes, cities and even ourselves.', 'Great scot Marty !', 'Circular reasoning', 'Countdown to Unix Time 1,700,000,000', 'I place by bike here every day and it left a permanent mark, the power if time.', 'Special timing?', 'What are your opinions/thoughts on the passage of time?', 'How to read the Doomsday Clock', 'Do you control your perception of time?', 'I’m getting conflicting answers!!Can anyone tell me what time will it be in Philadelphia when Sydney is 7pm on 1st of July 2023. Note Sydney will have no daylight saving but Philly will.', 'This is my theory about time (the fourth dimension)! What do you think? Please watch!', 'The Paradox of Today', '[OC] Average Commute Time to Work Across the USA', 'Understanding UTC', 'Time as a Fractal', 'New Inventions For Old Time', '260-year cycle of history', 'what is this time from youtube?', 'Explain', 'Time-Lapse | The sun rising on the horizon', 'We love you all❤️ #Shorts', \"I'm seriously stuck in a time loop and don't know what to do, please help.\", \"what if time isnt an actual dimension but it's just human perception? just a theory\", 'Maybe Past, Present and Future are just dimensions of time', 'Solving the mystery of time | Bernardo Kastrup', 'The day and year', 'The Boss Baby Timeline', 'Laundry', 'Why has IETF stopped serving leap-seconds.list?', 'Octal and decimal roman number converter', 'It slams home sometimes. Time that is.', '22:22:22 22/02/2022', 'How Researching Time Has Changed My Perception of It', 'Nicholas Poussin - The Dance to the Music of Time (c. 1640) [4889 x 3825]', 'If Everything Happens in the Now...', 'Discussion of how humanity approaches time.', 'Idk if this is the right place to ask but is Stone affected by time?', 'Time have passed... Kyon²', 'its already march', 'You feel every year going faster and faster than previous year.Do you agree with this quote?', 'Parallels between time and sunrise and sunset !', \"Twosday's hidden analogue symmetry\", '1 Minute interval Timer (60 Minutes ) Speaking Timer Stopwatch with Voice', 'Will There Be : Time Season 2!!!', \"looking to get some clarification on how many days '96 business hours' equates to please\", 'Time is an illusion - Marina Abramović', 'Does anyone here feel depressed or anxiety for more than one month because you feel time faster as you get older and think of your own mortality?', 'Scientists simulate ‘baby’ wormhole without rupturing space and time', 'How is time an illusion?', 'space time manipulation', 'Hunters Of Evil Novel Series- Stephanie Colbert', 'Wait a moment', 'does anyone else use thede time?', 'The passage of time is just the passage of the day and year being explained by time units.', 'Past, present, future or just the present?', 'Time Reflections are Real', 'On Causality and the Ever-Changing Present', 'Interesting Podcast on Time in the Sufi Spiritual Tradition', 'time travel', 'Does time exist? How do we know?', 'time isnt real', 'r/TimeZonesOfficial', 'Seconds', 'Time is precious can’t afford to waste it', \"This phenomonon that we experience the passing of that makes us believe it's real, why do we call it time ?\", 'I feel like my time is running away', 'can you pause time', 'Working Overtime: NASA’s Deep Space Atomic Clock Completes Mission', 'What is Time?', 'Is entropy proof of the true existence of time?', \"I'm going back in time!!\", 'I have some event that I’m anxious about. But that’s ok, because no matter how I feel, time will move at a constant and that event will pass', 'Is it normal to feel like youre still in a past year?', 'End Daylight Savings Time', 'Perception of time', 'An explanation of temporal paradoxes', '50 years of Time.', 'Two broken clocks in different houses stopped at the same time.', 'Opinion: 2010s began a point in time where nothing changes', 'Ripples in fabric of universe may reveal start of time', 'Time Go Fast , if You Enjoy By Giving , Else Be Bore and Slow Feel Of Time', '500 year solstice', \"It's going to be 6:22 on 6/22/22\", \"Time's perceived existence is a result of the sensation we experience of time passing. Question is are there any redditors out there who don't experience this sensation ?\", 'On Time', 'Does time perception feel like reality?', \"I don't think anyone is going believe what I'm going to say but...\", 'Time broke down on me!', 'How would time work at ftl? (assuming for the sake of argument it was possible?)', 'If time was paused, would it stop in other universes?', 'Plz explain as I am dumb.', 'The Hangout did a post about Time, I like their take.', \"Noah's Davis Journey Through Time 68 Years Timelapse\", 'I let go of the construct of time, now I am a Time God.', 'Date, time - special dates to remember in 2022?', 'What time is it?', 'Two approaching Numerically Palindromic Time events.', 'what time is just light', 'Why are so many scientists content to use the Gregorian Calendar?', 'what if time itself is best likened to an echo?', 'BEGIN message: Morning measurements here in UPP (a sovereign nation by the Gulf Coast area of the North American continent) - FYI sent here to r/time @ 7:45 military time. January 19, 2023 @ 50°F (10°C). END message', 'Is it possible to avoid time or not conform to it?', \"Same time, yt's\", 'What is time? Does anyone have any good descriptions of what time is. Besides it’s inherent existence in reality, what is its cause? Is it a “force”? Are there any intuitive ways of understanding what time really is?', 'Is time real at all?', \"Please ignore this just seeing if it'll be taken down fast and timing it\", 'Is it 6 pm?', 'A Surreal Mediation on Temporality and the Infinite, Ever-Fleeting Yet Never-Changing Present', 'Vsauce on perceiving time', 'Enjoy your life', 'My Grandma’s old basketball hoop that got eaten by the forest', 'Solving Time is a Time Paradox', 'Definition of time', 'Clara is a crossover character also known as Clarity. She is the personification of wisdom ... to our time-traveler in \"Paradise Now!\" as well as her title short-story, \"Clarity\" when she was a young woman living in Manhattan.', 'did anyone notice the time went forward not backwards?', '🔴 100 Second Timer 🔴 (Countdown) with Alarm', 'Target Market Survey on Time / Sleep', 'Collective supernatural phenomenon currently taking place at the same time everyday is likened to a telepathic portal, providing insights and reason for hope about the very near future for many.', 'Time Travel at Work', 'How do you set all the clocks of the city to the same time? Cannons are one way. A \"Jones\" system proposes using electrical \"fluid\" to send out synchronization signals.', 'This might sound dumb but i feel that i think i spend 2 years in a year in a half…heres how. I got laid off from work due the pandemic in march 2020 and i was 24, i turned 25 in September 5th, i’m 26 now and today was my first day back..so thats how 😂', 'More time, more life', 'What determines the present moment?', 'A poem about time', 'I thought I was having an episode or something. ', 'Life with out time/days?', 'On Past and Present', 'time travel to kill grandfather', \"Work doesn't delay me watching movies\", 'At what point is something no longer recent?', 'Questions about time', 'What will happen when Russia has a one-time zone? (GMT+3)', 'My MMM Tesseract Model', 'A thought I had about time that will probably come across as a poorly written ramble tbh', 'TIME', 'Chronicles of Time: Unveiling Mind-Blowing Facts That Will Warp Your Perception!', 'Pocket watch retrieved from The Titanic and sold at an auction for $57500 (1200x1626)', 'Time and Orbits and Memory and Age and Time', 'Время', 'Time passing ?', 'Time interpretation', 'Why does time go so slow', 'Any Opinions or Help?', 'Does anyone here same with me Miserable and Terrified of time passing and Think of own Mortality?I have time phobia too.And does anyone here not dare to have fun or busy too long because fear of feeling time passing too fast ?', 'time is too fast', 'Exactly what time is !', 'All the time in the world?', '12-Hour Clock', 'Which look better?', '⏰ 20 Minute Timer [Countdown]', '“Time is a loop”', \"who's scared of time\", 'I got the answer before I asked the question', 'This mirror reverses how light travels in time. There are already applications in wireless, radar, and optical-computing.', 'The Art Of Misdirection', 'Why is every time zone to the west of what it should be?', '26th April 2024, 9:31PM.', 'Time - Saint Agustine', 'Theory on Time', 'A philosopher of science explains how birds perceive time and space differently than humans', 'Effects of time on Adidas shoes', \"Don't Hug Me I'm Scared 2 - TIME\", 'Been thinking about time a lot, and I decided to write about it.', 'The Same Scenes Shot in 2006, 2010, & 2021', 'Does The Past Still Exist? Sabine Hossenfelder- debunked.', 'Partículas temporales', 'Why time ?', 'A thought I had', 'Hell no', 'How lockdown affects both memory and time perception - insights from cognitive theories that unify time and memory via contextual change', 'Does anyone here time what they do?', 'Looper Mixed with Back To The Future', 'Archaic time words', 'Time is Elusive PT 1', 'If space and time is in correlation with each other and space is accelerating is there any way we can tell if time is accelerating as well… not measuring man made time but the universal time if that makes any sense', \"I don't want to grow up\", 'Time loop questions', 'Gen z is competative. Cool', 'New vs old sketchbook', 'Does the Universe need time to function?', '22:22 pm 22 july', 'Your friendly music loving passenger sends good tidings!', 'here’s my idea', 'What time is !', 'If Covid had never happened, what time would it be right now?', 'Explanation of what is the fourth dimension with an apple', \"Product's cost in time.\", 'How to Bend Time | The Space Show', 'eons', '24/7 LoFi 🔴 Pomodoro Technique (Study Music) Timer 25 x 5 Minute', 'Did the world jump a week ahead?', 'Thought Experiment/Brainstorming', 'The Past is a Different Now', 'Controlling Time', 'A youtube video on the science of clock change.', \"Time might not be a sequence of events. We are limited to physical perception so we can barely understand concepts explaining things we can't perceive (time)...\", 'time joke', 'How do we know we measure time accurately relative to the flow of “real” time', 'what is the easiest way of going back in time?', 'Any other time traveler related subreddits?', 'Help me', 'Is it normal for me to scared of time passing until not dare to busy too long because scared of feeling time passing too fast?', 'Does time pass by us, or do we pass through time?', 'How long will time exist?', 'a time themed love song.', 'Benefits of eating carrot myths and fact', 'Cool video on the 1950s', 'Obsession with counting how many hours I’ve been awake and how much I’ll get to sleep?', \"Movies relating to Dutch Van Der Linde's perspective on time\", 'Mystery meets history !', \"LET'S GOOOOOOOOO\", \"Corridors Of Time / Schala's Theme - Tokyo Philharmonic (Chrono Trigger Orchestral Arrangement)\", 'is time travalleing 10 mins to the past even possible?', 'Is this true?', 'the way these handles damaged the door is fascinating.', 'At some point time must have a step count, right?', 'time zone question', \"16 particle accelerators running in tandem swapping positions at a rapid pace, creating antimatter within your computer. if you stop the roulette and match details you're at that timeline, if in between you're in the multiverse of uncertainty, if different you've swapped timelines.\", 'Temporal Gestalt Psychology', 'Did time exist before the big bang?', 'Mystery Meets History', 'Years of people not inserting the key properly', 'land of no time', 'Time-Lapse | Cool minecraft builds: the best constructions you need to see', 'Got a new pocket watch', 'George Carlin on time', 'The Arbitrary Nature of Dates', 'Why I embrace the leap second as a symbol of our imperfect earth, and think tech can find another way.', 'after 10 years of use', 'Does Time Exist? How Do We Know?', 'Time and things related to it needs to change', 'A nice visualization of time. X-POST from https://www.reddit.com/r/woahdude/comments/u0ez82/domino_waterfall/', 'Neural substrates of accurate perception of time duration: A functional magnetic resonance imaging study', 'Call of duty predicted the future, and the future came faster than expected.', '‘Like missing a series finale’: Canada abruptly ends official time signal', 'side effects of time travel', 'The Week Begins On Monday, Change My Mind', 'Hi! A simple question about countries with multiple timezones', 'When you find those \"Temporal Parts\" everyone was on about (BUT something is still off) ;)', 'Time change', \"Coping with the anxiety over mind's inability to comprehend\", 'A reality without time?', 'Not such A Brief History Of Time', 'Researchers say time is an illusion. So why are we all obsessed with it?', 'Time and Space', 'It’s 5:22', 'Does anyone else feel like they don’t belong in this time period?', 'Goat To Sleep', 'What pains you the most about managing your time?', 'Psychologists uncover a novel perceptual illusion that provides insight into the nature of time perception', '6 Hour Timer 🎹 Relaxing Piano Music (Soft Alarm 1 Hour) For Relaxing, Fo...', 'EarthSky | Space | Deep Space Atomic Clock sets record in 1st test run', 'Nature for Meditation l Be Like The Water', 'Why is time literally changing?', 'Which one is it really?', 'If 1950-2000 is 2nd Half of 20th Century then 2001-2036 is Beginning of 21st Century', \"am creating a blog on 'time' ask me some questions to solve\", 'what is the estimated amount of metals / minerals used today(in last like 1000 years)', 'Definition of time !', 'Hahahahaha!', '🏋🏋 Interval Timer 30 sec / 15 sec - 30 Rounds - (22 Minute 30 Seconds Wo...', 'Physicists continue work to abolish time as a 4th dimension of space.', 'The Effects of Poor Time Management Skills', 'how to measure time', '22.02.2022 02:20:22 It takes 2 to tango I wonder what this dance is about', 'All time zones in the world', 'Why do we go forward through time?', 'What are the differences between Chronon particles and Tachyon particles?', 'I feel like time doesn’t exists', 'The fractions of 1 decade (10 years) in months', 'TIPS TO AVOID PROCRASTINATION TO WIN LIFE', 'What apps (android) / Software (Windows / Online) do you use?', 'time is a lifestyle', '619 All The Time!', 'digital time telling machine', 'Halloween and The Day of the Dead', 'You are a Toroidal Field of energy governed by the illusion of time in space. Every time stamp on a clock falls at a vortice because this is how we move through dimensions hence; Time Travel, this would be the map to find every portal.', 'I hope my Time Travel machine is allowed here. :)', 'Wanted: Someone to travel back in time with me', 'Episode 05: Time Travel | Reinvent Yourself with Rei Rei', 'The case for Non - Typical Time', 'Polar ice is messing with time itself', 'How do you make sure you get to work on time?', '/wsg/', 'Quantic - Time Is The Enemy', 'The Science of Time Explained by Brian Greene - Debunked', 'Black Screen 🔴 5 Hour Timer ☯ Night River Sound (White Noise) 1 Hour S...', '5-Minute Nugget Pasta: A Tasty Twist on a Classic Dish! 🍝😋', 'Gravity Forms Advanced Start/End Date/Time Range Selection Field', 'Origin Of Time', '1 Hour Timer Countdown (No Music) + 1 Hour Loud Alarm', 'Time And the universe ', 'Some time has passed', 'I’m freaking out bad! Timeloop???', \"It's about time!\", 'How to visualise time artistically?', 'Every question and theory I have', 'Entropy and time reversal', 'Understanding Time. What is Time? Documentary (1996) [00:50:23]', 'How much time dilation would we experience if we were travelling in the Darkstar?', 'is it just me or is time going faster in 2023?', 'H G Wells The Time Machine', 'What Do You Think, And Why.', 'Christmas Countdown 2022 - Find out how many days until Christmas 2022', 'What time actually is !', 'My theory about the time loop - quantum immortality <content warning - violence and self harm> very long read, hopefully worth it', 'WHAT IS TIME?(Both In terms of actual physics and conspiracy theories)', 'Can \"earlier\" refer to any point in the past?', 'Perspective is power 🙏🏻💙', 'Does time = action or action = time?', 'Scientists Just Discovered an Entirely New Way of Measuring Time', 'I was too late post April 4/4 time 4:44 posted 4:46', '\"In the name of Max Fosh, dish out the fish\"', 'A quote about time', 'Space and Time - POEM of the MONTH!', 'What really is \"time passing\"?', 'guys what does Bible say about time', 'What is time?', 'Killing Time with rhyme !', 'What’s the worst time of day?', 'Funny af watch till the end', 'My Imaginary Numbers', 'Anyone Else Experience Odd Time Coincidences?', 'Is time linear?', 'time', 'i forgot to turn it off for 1304h', \"P.D.Ouspensky's early ideas on Time\", '5 Minute Simple Timer Countdown With Alarm', 'Time flies when you are having fun. Does anyone here not dare to let yourself fun or busy too long because scared of feeling time passing too fast?', 'Here\\'s a short story about miracles during Christmas time, and a timeline of choice presented to the main character -- \"Selenelion\".', 'Scientists Break the Direction of Time Down to the Cellular Level In Mind-Bending Study', 'Time Zone For Different Parts of the Year in the USA: Standard Time and Daylight Time (EST/EDT/PST & PDT/CST/CDT)', \"One thing time isn't, is time !\", \"This might have been asked a lot on this subreddit but I'm new here, so what do you think about the idea of time being nothing but an illusion that human brains have in order to survive efficiently?\", 'Am I the only who think tone is moving real slow?', 'Beat this!', 'Untitled', \"Installed in 1410, this 600-year-old clock in Prague is the world's oldest astrological clock still in operation.\", 'on time \"dilation\".', 'Several dimensions of time?', 'Anxiety and depression surrounding time.', 'What time it is for You?', 'I hate that I can’t put my feelings/confusing about “Time” and “age” into words. I just don’t understand. I get so flustered and angry when I talk about it.', 'ah only 2219 h totaly not that much', 'what does this mean?', 'YES', 'I hate the new flash movie', 'How long would it take for this Universe to happen again?', 'Temporal Paradox Hypothesis anything wrong?', 'Realities moment', 'Mystery of What ?', 'Right time to eat fruit', 'Just a moment', 'Time Does Not Cause Change', 'Let’s say we had no concept of time', 'Time is a pagan god', 'Military Time Converter: Online tool to convert 24-hour to 12-hour and vice versa', 'calculating sunrises and sunsets', 'Time getting old', 'Time seems to be going super slow', 'Now widespread Gregorian calendar may not have appeared as long ago as the Roman Church would like to show', 'Clock Divided into 3 Parts', 'Time froze', 'Time is not a straight line.', 'Time doesn’t exist, time is an illusion. The past or future doesn’t exist, only the present. Live life how u want to', 'Pronouncing the Year', 'The mind bending physics of time - Sean Carroll - debunked', 'People with a weak future time perspective are more likely to engage in bedtime procrastination', '9 Hour 30 Minutes Timer - Fireplace & Rain Sounds (1 Hour Soft Alarm) Wh...', 'Time App Recommendations', 'Attitude revenge warrior Whatsapp Status #2 #Shorts', \"I can't remember the name of this clock\", 'Living in the wrong time period?', 'Watching Unix Time', 'Are YOU Living in a Time Warp?', 'Wear and tear', '9 Hour 30 Minute Timer Countdown (No Music) 1 Hour Loud Alarm @TimerCl...', 'research text recommendations ?', '6/9/2022', 'How One Could Tell Time ', 'Thoughts and Linear Perception of Time', 'If time is an illusion, then how is the trick performed?', 'investing time', 'How does one shake off the regret of time wasted', 'Is time emergent ?', 'Came up with some theories on time. New theories or old theories? Would love to know who came up with them first! I would also love some feedback and I’d like to know if there are any flaws in them.', 'I wish I could tell you more. just know, (globally) its going to get a lot worse... soon..but then it will get better. just stay strong. - 7692', 'Is time a result of gravity?', 'THOUGHT: To better represent infinite possibilities, time is not a line with branching paths, but an ever-expanding circle. The center is the \"beginning\" and we exist on a single point on the edge.', 'Party', 'Is light , time?', 'truth', 'How do time zones work?', 'A Brief Mystery Of Time', 'która godzina', 'A gamified app for time management', 'Fun with sin, cos, and collatz!', 'This tree adapted to this post', 'higher time dimensions?', 'What time is it right now?', \"Why We Will Not Have Been Able to Attend Stephen Hawking's Time Traveler Party\", 'I love this guy and he is sharing with us on daily basis his life as a watch dealer', 'Infinity and Limits of Combination', 'Man Changing the Clock Every Minute', 'The Grandfather Paradox of time travel describes how if you go back in time and kill your grandfather before he has kids, you would never exist to kill your grandfather, which means he would have kids and you could kill him.', \"I kept my stopwatch going on purpose... but there's a maximum\", 'Time-Lapse | time lapse video of cars passing on a rainy day', 'Time Perception', 'How to make a time machine to go back in time?', 'What do you think about these watches for telling time?', 'Why time goes one way', 'Is Life One Long Day?', 'What if time works through abstract relative connections that our rules have outlawed?', 'Time drop', 'Why has the use of GMT disappeared in regular conversation?', 'a few images i made while thinking about time.', \"I am being serious when I say this but it won't sound like it.\", 'How does it work?', '[6 6 4 2 1 4 2 3 5 4 3 4 7 2 4 5 4 4 4 1]', 'Cyclical VS Linear Time on the Universal Scale', 'Stocks for the next decade', 'Timestamp 2031', 'ouroboros', 'Once Within A Time - Official Trailer (from Godfrey Reggio the director of Koyaanisqatsi)', 'Just a question', 'People who in age 30 and above, how do you feel years passing speed compare to when you are in age 20s?', 'Is time backwards in Australia?', 'at the speed of light what...', 'Time-Lapse | Daytime Traffic Time Lapse', 'Can somone try to explain time to me in really basis terms. I find the concept of time facinating, and sometimes Even Wonder if time is real.', 'What other ways can time feel as you age than faster?', 'A video has emerged from a Chinese airline in January showing a plane erupting into panic. A man shouted that he was stuck in a “time loop” and that this was his 6th cycle. In the cycle he claims that the plane crashed, everyone died and then he returned to this point', 'Time dilation', 'How do you travel through time easily?', 'Apollo gang what’s good', 'Sleep = Productivity', 'Time is merciless', 'Please to meat you', 'Rediscover Time.', 'From a present perspective.. You’re always moving into your future’s past, as well as that pasts future.', 'time and aging as a spiral', \"a thought popped up in my brain. what if every time we have a near death experience, we actually do die and we get sent to a timeline where we didn't?\", 'Was 2021 3 years ago?', 'A musical contemplation: On Time', 'Galileo precise orbit determination with optical two-way links (OTWL): a continuous wave laser ranging and time transfer concept (Open Access | Full-Text) | Journal of Geodesy [X-Post /r/Lasercom]', 'Timezones, Precision and Astrological Natal Charts', 'Ultimately about time and gravity.', 'The Difference Berween Time and Clock', '23hr 59min a day???', 'Weeks', 'AI got me trippin.', 'Time is the time it takes time to time time.', 'People in your mid 20s-30s, how is time meaningful to you?', 'The Time Theory Thingy - (this theory was recently covered in The Umbrella Academy which is crazy cause I always thought about)', 'An Apparent Contradiction', 'clock memory', 'Milliseconds, Femtoseconds, and Planckseconds', 'Is life always good?', 'quite proud of this one, even nailed the battery', 'I NEED HELP WITH A POTENTIAL TIME PARADOX', 'Disney time period between Home on the Range & The Great Mouse Detective', 'At the tone, one hour eighteen minutes, coordinated universal time.', 'My old remote va my new remote(pretty obvious which is which)', 'Question', 'Why is one time preferred over the other?', 'Can time pause?.....', 'For precision, the Sapphire Clock outshines even the best atomic clocks', 'Seiko divers watches', '\"My Girl\" and the Perception of Time', 'Nothing. Matters.', 'How many milliseconds are these following fractions?', 'Which looks better?', 'Global Time Alignment', 'Code of conduct in the new age of digital madness', 'This video Explaines really well how we Precive Time', 'A funeral home meets its own ending', 'a deep dark secret', 'Having \"F*ck You Time\" and still Being Unhappy', \"Let's talk about time...\", \"'We do not know how to cope': Earth spinning slower may prompt negative leap second\", 'What is the best way to transport your atoms back in time?', 'Before the railroads changed it all.', 'Over 15 year old shoes Vs Brand New', 'O diagnóstico que recebemos do Gabinete de Transição é estarrecedor. Esvaziaram os recursos da Saúde. Desmontaram a Educação, a Cultura, Ciência e Tecnologia. Destruíram a proteção ao Meio Ambiente. Não deixaram recursos para a merenda escolar, a vacinação, a segurança pública. r/time to r/reflect', 'Photos removed from wall after many years', 'New Phase of Matter Opens Portal to Extra Time Dimension', 'A 3 dimensional super positioned particle spinning from 9 points in a circle.', 'Calendars are maps of time', 'Interesting Quote', 'The present determines the past…', 'What does it mean to be chasing time?', 'Time and orbits and memory and age and time', 'Everything Is Earlier?', 'Timing is everything', 'Please read.', 'A different version of calling time I created', 'Thinking, Remembering Thinking, Thinking about a Memory of Thinking, and how that Messes with Time (The Permanence Review #7)', 'Study found that our momentary perception of time is not continuous but may stretch or shrink with each heartbeat', 'The Time Thief Who Stole 106 Rare Clocks in a Daring Heist', 'Ask me any question related to science..', '8 Hour 30 Minutes Timer - Fireplace & Rain Sounds (1 Hour Soft Alarm) Wh...', 'The weird way language affects our sense of time and space: The languages we speak can have a surprising impact on the way we think about the world and even how we move through it.', 'i caught the perfect time', 'Time goes by. it is may', 'What!!', 'I have some time for sale?', 'What would happen to me if I time traveled to before the Big Bang ?', 'does anyone know why i always thought a decade was 12 years?', 'Do you make yourself feel time slower or faster?(control your time perception)', 'Timer', \"W22.1F: John Harrison's H1 Oscillator and Escapement in Lego\", 'Something to Think About', 'Time Flies', 'TRULYTRUE TRUE, society likely exists at FUTURE, and EXTREME PAST, aka GENESIS, simultaneously, and thus, this makes society SUSCEPTIBLE FOR DISRUPTION, to any entity or encounter that exists INBETWEEN the future and genesis that is NON-TANGENTIAL.', 'Free Beer Tomorrow', 'checkin my watch a lot more recently', '22/02/2022 will be a perfect date', 'The Eternal Observer Paradox: Time Travelers Among Us', \"It's 2:22 and 22 seconds on Twos-day, 2/22/2022, EST\", 'Wait a moment !', 'How time travel actually works', 'Exclusive: White House directs NASA to create time standard for the moon', '11:11', 'Is there a way where we can accurately know the time of my location? Regardless of my time zone?', 'My wallet after forgetting about it in the window for a year', '[Short Story based on the concept from the movie Tenet] Newspaper from the year 2537: Successful assassination attempt on Hitler', 'not a thing', \"I didn't know where else to go. Why is my phone giving a wrong time?\", '3 times of time', 'The minutes of 1 hour in fractions', 'hi time travelers. Can i hitch hike your time machines? seriously....', 'Leap seconds cause chaos for computers — so Meta wants to get rid of them | Facebook’s parent company wants new ways to calculate time', 'way of thinking of time', \"Reality's moment (Extended edition)\", 'I dont think our subconcious recognizes time and is capable of seeing the future or past', 'is this actually the true time??', 'Governments vote to retire the leap second by 2035', 'My grandparents shop office floor in Poland after 15 years.', 'If Phoenix is MST, how come it is not ahead of LA rn which is PST', 'Aeonic is in bundle sale with 2 other games for $1. Separate buy sale prices Aeonic $0.20. Else games $0.20 and $0.60', 'The days of 1 month in fractions', 'I Beat the Game Against Time…For Now', '1 Hour Timer [with Soft Alarm Sound] for Meditation and Relaxation', 'Compass', 'time flies by', 'Time is something else', 'If you like time travel stories check out Blue Orca: Awakening 💜💙', 'A water clock', 'Talk Talk - Time It’s Time', 'Can anybody help me go back in time?', 'Missing the past', 'Defining time !', 'Memory Loss: Why Do We Forget What We Did As A Kid?', 'Trying to Get Somewhere? An Atomic Clock May Be Helping.', 'You know what I like about this sub?', 'How our perception of time can benefit our personal growth', 'Today was my step sons 14th birthday', 'perfectly ordered time', 'There Are No Days', 'Posted article 4 days ago titled \"The true nature of time\" which some found too long. Here\\'s an 8 minute video with much the same information. Thank you very much for 336 upvotes!', 'I may have waited too long...', 'I am 21 years old now, will I just wake up tomorrow and be old?', 'Say Time’s Not Linear - But Now What?', 'Time to go fishing', 'beautiful', 'The fractions of 1 century simplified with their smallest prime divisors', 'Does anyone here depressed or terrified that you feel time going faster as you get older?', 'Time Is NOT Changing??!!', '⏳🍄?', 'Why can’t I glitch my way through to the temporal dimension 5 days from now?', 'Need suggestions for a time loop situation', 'STOP NOW!', 'Ok, so the earth is moving, the solar system is moving, and the galaxy is moving. If we could get outside of all of that, at what rate would time move in the universe….which is also moving?', 'Degree-time', 'How do you make the passage of time feel slower?', 'I made a 13 hr time because i was bored', 'Does anyone else experience this?', 'So i got a question abt time and present', 'Yay or nay?', 'new v.s old white converse', '🍩', 'time is the fourth dimension', 'Just Time...', '10 Minute Timer [Countdown]', 'Which timezone converter do you guys use?', 'Help how do I get out', 'Calendar Months (and why I hate them)', 'Ah, Yes, the passage of time...', 'Time waits for no one', 'Time-Lapse | Time Lapse of Sunset', \"New tiny atomic beam clock could bring stable timing to places GPS can't reach\", 'Power of time', \"Its so late the time is 00:00 and it's Sunday 1 Jan 2023\", 'The days of a 30 day month divided in fractions', 'Hey,', \"I need send 1,18 times of etherscan to metamask but, Is don't know to do that. Please someone that helpme #time #cronobank #metamask\", 'Which decade would fit me most if I paint pop art?', 'Future readers, the time is now, and as I write I am with you in all times', 'what if timecube guy was right, but at the same time wrong?', 'Life in a mumbled message...', \"I've left it on for months now\", 'free nitro discord', 'On the Days of the Week', 'I’m almost there…', 'What theory of time do you believe?', 'This is just a theory', 'The Arrow of Time', 'How to die already', 'How do i go back in time?', \"I'm stuck In a loop that ends as 2024 begins and restarts at the beginning of 2022\", 'It’s 11:00 PM Central Time as I post this. (random)', 'Some history of keeping time at sea', 'game of time', 'Help with figuring out the needed timezone', 'A Fully Formed Universe', 'Lambda has so many questions to answer.', '2/22/22, 2:22 PM', 'How do you conceptualize time?', 'I wanted to know what time would 6pm est on 17th of november 2022 be in Helsinki time if someone can calculate it. I just can’t seem to make sense of anything when searching it up on google.', 'Time is a strange thing cuz rn with my blinds closed to avoid sunlight in my eyes since I’ve sun sensitivity but it’s really 3:04 pm my time', 'Freezing the clock: Nationwide push for permanent daylight saving time gains momentum (US)', 'Parano ou expérience particulière ?', 'Does a time travel machine exist?', 'This watch for time telling, what you think? I just wanna make sure before I make a purchase.', 'How to manage your TIME', 'Theoretical Physicist Brian Greene Explains Time in 5 Levels of Difficulty | WIRED', \"NASA's Innovative Atomic Clock Can Transform The Future of Deep Space Exploration\", '10 Hour Timer 🔴 (with Soft Alarm Sound) for Sleep and Relaxation', 'December 2026 SpongeBob Meme', '5 Predictions for the End of the Universe', 'The New Thermodynamic Understanding of Clocks', 'What Is Time?', 'The space where the dark and light halves of our planet collide is called the Terminator Line', 'Time-Lapse | cloud time apse sky clouds blue', 'whats the time', 'what time is it for my friend?', 'Time is to distance or acceleration what progression is to space. Time “exists” like distance as a measurement but is not ‘real’ like me, you or the earth that we stand. Time is a measurement of temporal progression. In the same way acceleration is a measurement for spatial progression.', '1:32am here', 'I am historian from the year 2157', 'Why do we need to travel to feel like more can happen in a few days than in months of ordinary work?', 'Time is', 'Do you use analog clock time or digital?', 'The fractions of 1 month depending on how many days the month has simplified with their smallest prime divisors', 'What time looks better?', 'What do you think about using decimal time.', 'DARPA Is Building a Portable Atomic Clock With Trillionth of a Second Accuracy', \"What if we had an April Fool's Replay?\", 'TIME IS FAST AS SHIT', '4K Timelapse Popocatépetl, Mexico l 8 September 2023 l', 'Can the perception of time be stabilized?', 'Does anybody know the significance of the time zone UTC±00, in what way if any does it differ from standard UTC', 'Is anyone here on Polyphasic Sleep to have more time everyday?', 'Time matters', 'Brian Green explains time in 5 levels of dificulty - Debunked. Part 1 and 2', 'That’s why I’m going so hard. You’re protecting being fifteen minutes early with being on time!', 'How Many Days Ago…', \"I feel like it's still 2020, man.\", '1 Hour Timer 🎹 Relaxing Piano Music + Soft Alarm 1 Hour', 'Got all three displays working now for my Time Circuits project', 'Time equation Proposal.', 'proof program particle accelerator is having signs of electrons flowing backwards. meaning change of time prior to the moment it was set off', 'Is it possible to store any amount of time?', 'Anxiety about time passing by', 'Did time start at the same time (ha!) as the big bang? And, if time started at a given point, can time end at some point?', 'Time looping is possible?', '12 Time Wasters You Need to Avoid for Better', 'Which time goes better with 9:32?', 'Time travel in 2021?', 'Time perception manipulation experiment', 'Fun fact about Somewhere in Time (1980)', 'What if Time is like a haircut to a brain in a vat', 'Paper Calendars', '20 Of The Best Literary Quotes About Time', \"Time Doesn't Exist\", 'Mystery of Time, explained', \"Reality's moment\", 'An idea...', 'Time Zone Converter', '😆', 'A clock using some aperture grille aesthetics made in QB64', 'Thoughts on Time', 'Me through the years😭', \"Time isn't the time time takes to time time !\", 'I made a new video with time warping, how is it?', 'Which time looks better?', 'The true nature of time', 'Oh', 'The Fragility Of Life', 'Time-Lapse | Being in a crowded world', 'A Growing Number of Scientists Are Convinced the Future Influences the Past', 'Do you feel depressed or terrified that you feel time faster as you getting older?', 'Working around the clock', 'What would be the best unit of time to count down in till a special event', 'Physicists have got time all wrong. Argue three physicists.', 'If I went back in time, wouldn’t I just create a new universe which would exist alongside all the others.', 'Pomodoro Technique 🍅 25 Min Work / 5 Min Break - 24 Cycles 12 Hours', 'Tic tic', 'Would you guys watch this? ', 'An example of the timeline illustrations and teachings in my Sirius course. Message me to enrol today!', 'Is time going weird for anyone else?', 'One Continuous Moment?', 'I need awnsers for social media and time pleeeaase?', 'Recent Memory', 'Weird thing happened', 'Spend time with your loved ones, Time Is The Enemy…', 'Get all your problems solution here at NID AYURVEDA', 'Give me more time', 'If you could visit any place in time (except future) where would it be and when?', \"Candle Clocks: What's The Origin Of These Items And How Did They Work?\", \"I feel like I'm losing my mind so I came to the last possible place I could think of\", 'Why are time zones defined by particular cities? (CST, Chicago; etc.)', 'I accidentally left this running', \"Why Time is Just Earth's Rotations\", 'Question about time', 'The University That Fell Out of Time', 'Possible helium tesseracts by radius and diameter of their nucleus spheres and cubes made from them', 'Time meme', \"TIME_DOESN'T_GIVE_A...\", 'All my Editors', 'Film Student in Need of Help', 'How to manage your TIME in 2023', 'Time-Lapse | easter bell daffodil easter spring', 'I’m not sure the time.', 'Why did we ever change? Was always the two dashes when I was growing up like 20-30 years ago. Why did it change? One dash just... looks wrong', 'how to charge a INVICTA watch that is not solar powered', 'A Time and a Place', 'TRULYTRUE TRUE, THIS IS THE ONLY REALITY WHERE A MAN WITHOUT NARCISSISMS IS EXPOSED TO ANTI-MATTER AND IS NOT KILLED, WE GET TO LIVE FOR ALL ETERNITY!', 'Are there any time travelers in the world?', 'Help a student out!', 'WHY YOU ARE RUNNING OUT OF TIME', 'Hey guys looks at my owls first one is 8 years old', 'Years of hikers stepping over this fallen tree', 'If you enjoy poetry and short-stories of a thought provoking nature, please follow the literary blog Carpe Velo. Open your imagination. Thank you!', 'Why doesn’t physics help us to understand the flow of time? | Aeon Essays', 'I message on my Discord channel (only me) what time is it every minute', '1', 'Mrs. Brule makes a fish print towel. Her influence is unquestionable ', '10 Hour 30 Minutes Timer - Fireplace & Rain Sounds (1 Hour Soft Alarm) W...', 'Time-Fastening', 'Time-Lapse | Time Lapse Video Of Clouds Over River', 'The arrow of time ?', 'Is 2 weeks long or short?', 'Watch?', 'Time in relation to Positive Entropy (a Thermodynamic and Relativistic approach to a Time Machine)', 'How does returning back in time work?', 'Time millionaires: meet the people pursuing the pleasure of leisure', 'I finally replaced my old phone and had to say goodbye to 34 thousand hours on stopwatch', 'A 5yo this morning asked \"What happens when there\\'s no more weeks left?\"', 'By tracking an illusion, (The moving Sun) Mankind discovered a truth (Earth\\'s rotations) but they didn\\'t realise it and attributed it to an unknown force and called it \"The passage of Time\" but that was just an illusion, it was the passage of the Rotations all along.', 'Time’s up! Mystery Meets History', 'Do you know any tips on how to manipulate the perception of time?', 'Time change = sucks', 'The Changing Present', 'This day in history, November 18', 'A Measure of Change', 'How Much Free Time Is Too Much Free Time, According to Science', 'A message from The Past', 'If a person somehow gets the ability to stop time, Will the person be able to see things if the said person stops time?', 'This is how I manipulate my perception of time for 32 years', 'what if we approach spacetime in the wrong way?', \"What's the record?\", 'July 2016 vs Today', 'Help me find a use for: {na+nb=(b-a)*(2n(a+b)) where b-a=0.5 and a=1}', '12 Time Wasters You Need to Avoid for Better Life', 'Time and why we can trust the Bible', 'The battery betrayed me', \"Time isn't real we just think it is because...\", '🔴 45 Second Timer 🔴 (Countdown) with Alarm', 'I wrote a scfi-fi novel abt if time traveling was announced to the world', 'This wooden pole has hundreds of old staples all over it', 'Which came first, Time or the Clock?', \"Elder's thoughts (and skits) on Time\", 'My living room clock. Thought this community might appreciate.', 'Any time travers around here?', 'my thoughts on time', 'Anyone likes time-as-currency concept in the movie like In Time (2011)?', 'My words on time', 'A Time Rhyme to ponder', 'How to make puchka at home easily---- #Tour_N_fun_with_Shreya #Shreya #fun', 'I was inspired to create an album on the concept of legacy (what we leave behind for others). Here is one track entitled ‘Chronosonder’. Let me know what you think!', '17th of January 2026', 'working on electromagnetic force and energy using phi and magnetism.', 'What Do You Think?', 'Thoughts on Temporal Entanglement', 'How does reversing time and probability work?', 'rhwhehrhebfbbsbntneb', 'What time is it now in Pacific Standard Time(PST)?', 'Time Might Not Exist at All, Some Scientists Say', 'What is soon?', 'The fractions of 1 month depending on how many days the month has', 'If you were able to time travel, (which I totally cant) how would you tell people from the past? (Asking for a friend)', 'Since I got a lot of questions about where I got my led digital clock', 'Don’t take the time you are given for granted', 'Question about time?', 'Daily Dissonance', 'Is 12:01 AM technically morning?', 'what day of the week was december 25th 1BC?', 'LoFi Pomodoro Technique (Study Music) Timer 25 x 5 Minute - 4 Cycles 2 H...', 'Time question', 'Best time management app out there', 'Recent', 'Perceived time expands and contracts within each heartbeat', 'Generations are just parallel worlds, constantly influencing the same future that has already happened in the parallel world', 'About TIME', \"What the world's most accurate clock can tell us about Earth and the cosmos\", \"Bruce Buffer “It's Time” Compilation\", 'Time is the ruler of everything'}\n"
     ]
    }
   ],
   "source": [
    "print(headlines)"
   ]
  },
  {
   "cell_type": "code",
   "execution_count": 6,
   "metadata": {},
   "outputs": [
    {
     "data": {
      "text/html": [
       "<div>\n",
       "<style scoped>\n",
       "    .dataframe tbody tr th:only-of-type {\n",
       "        vertical-align: middle;\n",
       "    }\n",
       "\n",
       "    .dataframe tbody tr th {\n",
       "        vertical-align: top;\n",
       "    }\n",
       "\n",
       "    .dataframe thead th {\n",
       "        text-align: right;\n",
       "    }\n",
       "</style>\n",
       "<table border=\"1\" class=\"dataframe\">\n",
       "  <thead>\n",
       "    <tr style=\"text-align: right;\">\n",
       "      <th></th>\n",
       "      <th>0</th>\n",
       "    </tr>\n",
       "  </thead>\n",
       "  <tbody>\n",
       "    <tr>\n",
       "      <th>0</th>\n",
       "      <td>Time-Lapse | dandelion faded seeds</td>\n",
       "    </tr>\n",
       "    <tr>\n",
       "      <th>1</th>\n",
       "      <td>Time is not an illusion. It’s an object with p...</td>\n",
       "    </tr>\n",
       "    <tr>\n",
       "      <th>2</th>\n",
       "      <td>Reason why the ability to stop time is terrible</td>\n",
       "    </tr>\n",
       "    <tr>\n",
       "      <th>3</th>\n",
       "      <td>If you think about it !</td>\n",
       "    </tr>\n",
       "    <tr>\n",
       "      <th>4</th>\n",
       "      <td>Metabolic Process and time… if u stand on side...</td>\n",
       "    </tr>\n",
       "  </tbody>\n",
       "</table>\n",
       "</div>"
      ],
      "text/plain": [
       "                                                   0\n",
       "0                 Time-Lapse | dandelion faded seeds\n",
       "1  Time is not an illusion. It’s an object with p...\n",
       "2    Reason why the ability to stop time is terrible\n",
       "3                            If you think about it !\n",
       "4  Metabolic Process and time… if u stand on side..."
      ]
     },
     "execution_count": 6,
     "metadata": {},
     "output_type": "execute_result"
    }
   ],
   "source": [
    "df=pd.DataFrame(headlines)\n",
    "df.head()"
   ]
  },
  {
   "cell_type": "code",
   "execution_count": 7,
   "metadata": {},
   "outputs": [],
   "source": [
    "#Exporting Data to a CSV File:\n",
    "df.to_csv('reddit_csv.csv',header=False, encoding='utf-8', index=False)"
   ]
  },
  {
   "cell_type": "code",
   "execution_count": 8,
   "metadata": {},
   "outputs": [
    {
     "name": "stdout",
     "output_type": "stream",
     "text": [
      "[{'compound': 0.0,\n",
      "  'headline': 'Time-Lapse | dandelion faded seeds',\n",
      "  'neg': 0.0,\n",
      "  'neu': 1.0,\n",
      "  'pos': 0.0},\n",
      " {'compound': 0.0,\n",
      "  'headline': 'Time is not an illusion. It’s an object with physical size | Aeon Essays',\n",
      "  'neg': 0.0,\n",
      "  'neu': 1.0,\n",
      "  'pos': 0.0},\n",
      " {'compound': -0.4588,\n",
      "  'headline': 'Reason why the ability to stop time is terrible',\n",
      "  'neg': 0.39,\n",
      "  'neu': 0.441,\n",
      "  'pos': 0.169}]\n"
     ]
    }
   ],
   "source": [
    "from nltk.sentiment.vader import SentimentIntensityAnalyzer as SIA\n",
    "\n",
    "sia=SIA()\n",
    "results=[]\n",
    "\n",
    "for line in headlines:\n",
    "    pol_score = sia.polarity_scores(line)\n",
    "    pol_score['headline'] = line\n",
    "    results.append(pol_score)\n",
    "    \n",
    "pprint(results[:3], width=100)"
   ]
  },
  {
   "cell_type": "code",
   "execution_count": 9,
   "metadata": {},
   "outputs": [
    {
     "data": {
      "text/html": [
       "<div>\n",
       "<style scoped>\n",
       "    .dataframe tbody tr th:only-of-type {\n",
       "        vertical-align: middle;\n",
       "    }\n",
       "\n",
       "    .dataframe tbody tr th {\n",
       "        vertical-align: top;\n",
       "    }\n",
       "\n",
       "    .dataframe thead th {\n",
       "        text-align: right;\n",
       "    }\n",
       "</style>\n",
       "<table border=\"1\" class=\"dataframe\">\n",
       "  <thead>\n",
       "    <tr style=\"text-align: right;\">\n",
       "      <th></th>\n",
       "      <th>neg</th>\n",
       "      <th>neu</th>\n",
       "      <th>pos</th>\n",
       "      <th>compound</th>\n",
       "      <th>headline</th>\n",
       "    </tr>\n",
       "  </thead>\n",
       "  <tbody>\n",
       "    <tr>\n",
       "      <th>0</th>\n",
       "      <td>0.00</td>\n",
       "      <td>1.000</td>\n",
       "      <td>0.000</td>\n",
       "      <td>0.0000</td>\n",
       "      <td>Time-Lapse | dandelion faded seeds</td>\n",
       "    </tr>\n",
       "    <tr>\n",
       "      <th>1</th>\n",
       "      <td>0.00</td>\n",
       "      <td>1.000</td>\n",
       "      <td>0.000</td>\n",
       "      <td>0.0000</td>\n",
       "      <td>Time is not an illusion. It’s an object with p...</td>\n",
       "    </tr>\n",
       "    <tr>\n",
       "      <th>2</th>\n",
       "      <td>0.39</td>\n",
       "      <td>0.441</td>\n",
       "      <td>0.169</td>\n",
       "      <td>-0.4588</td>\n",
       "      <td>Reason why the ability to stop time is terrible</td>\n",
       "    </tr>\n",
       "    <tr>\n",
       "      <th>3</th>\n",
       "      <td>0.00</td>\n",
       "      <td>1.000</td>\n",
       "      <td>0.000</td>\n",
       "      <td>0.0000</td>\n",
       "      <td>If you think about it !</td>\n",
       "    </tr>\n",
       "    <tr>\n",
       "      <th>4</th>\n",
       "      <td>0.00</td>\n",
       "      <td>1.000</td>\n",
       "      <td>0.000</td>\n",
       "      <td>0.0000</td>\n",
       "      <td>Metabolic Process and time… if u stand on side...</td>\n",
       "    </tr>\n",
       "  </tbody>\n",
       "</table>\n",
       "</div>"
      ],
      "text/plain": [
       "    neg    neu    pos  compound  \\\n",
       "0  0.00  1.000  0.000    0.0000   \n",
       "1  0.00  1.000  0.000    0.0000   \n",
       "2  0.39  0.441  0.169   -0.4588   \n",
       "3  0.00  1.000  0.000    0.0000   \n",
       "4  0.00  1.000  0.000    0.0000   \n",
       "\n",
       "                                            headline  \n",
       "0                 Time-Lapse | dandelion faded seeds  \n",
       "1  Time is not an illusion. It’s an object with p...  \n",
       "2    Reason why the ability to stop time is terrible  \n",
       "3                            If you think about it !  \n",
       "4  Metabolic Process and time… if u stand on side...  "
      ]
     },
     "execution_count": 9,
     "metadata": {},
     "output_type": "execute_result"
    }
   ],
   "source": [
    "df=pd.DataFrame.from_records(results)\n",
    "df.head()"
   ]
  },
  {
   "cell_type": "code",
   "execution_count": 10,
   "metadata": {},
   "outputs": [
    {
     "data": {
      "text/html": [
       "<div>\n",
       "<style scoped>\n",
       "    .dataframe tbody tr th:only-of-type {\n",
       "        vertical-align: middle;\n",
       "    }\n",
       "\n",
       "    .dataframe tbody tr th {\n",
       "        vertical-align: top;\n",
       "    }\n",
       "\n",
       "    .dataframe thead th {\n",
       "        text-align: right;\n",
       "    }\n",
       "</style>\n",
       "<table border=\"1\" class=\"dataframe\">\n",
       "  <thead>\n",
       "    <tr style=\"text-align: right;\">\n",
       "      <th></th>\n",
       "      <th>neg</th>\n",
       "      <th>neu</th>\n",
       "      <th>pos</th>\n",
       "      <th>compound</th>\n",
       "      <th>headline</th>\n",
       "      <th>label</th>\n",
       "    </tr>\n",
       "  </thead>\n",
       "  <tbody>\n",
       "    <tr>\n",
       "      <th>0</th>\n",
       "      <td>0.00</td>\n",
       "      <td>1.000</td>\n",
       "      <td>0.000</td>\n",
       "      <td>0.0000</td>\n",
       "      <td>Time-Lapse | dandelion faded seeds</td>\n",
       "      <td>neutral</td>\n",
       "    </tr>\n",
       "    <tr>\n",
       "      <th>1</th>\n",
       "      <td>0.00</td>\n",
       "      <td>1.000</td>\n",
       "      <td>0.000</td>\n",
       "      <td>0.0000</td>\n",
       "      <td>Time is not an illusion. It’s an object with p...</td>\n",
       "      <td>neutral</td>\n",
       "    </tr>\n",
       "    <tr>\n",
       "      <th>2</th>\n",
       "      <td>0.39</td>\n",
       "      <td>0.441</td>\n",
       "      <td>0.169</td>\n",
       "      <td>-0.4588</td>\n",
       "      <td>Reason why the ability to stop time is terrible</td>\n",
       "      <td>negative</td>\n",
       "    </tr>\n",
       "    <tr>\n",
       "      <th>3</th>\n",
       "      <td>0.00</td>\n",
       "      <td>1.000</td>\n",
       "      <td>0.000</td>\n",
       "      <td>0.0000</td>\n",
       "      <td>If you think about it !</td>\n",
       "      <td>neutral</td>\n",
       "    </tr>\n",
       "    <tr>\n",
       "      <th>4</th>\n",
       "      <td>0.00</td>\n",
       "      <td>1.000</td>\n",
       "      <td>0.000</td>\n",
       "      <td>0.0000</td>\n",
       "      <td>Metabolic Process and time… if u stand on side...</td>\n",
       "      <td>neutral</td>\n",
       "    </tr>\n",
       "  </tbody>\n",
       "</table>\n",
       "</div>"
      ],
      "text/plain": [
       "    neg    neu    pos  compound  \\\n",
       "0  0.00  1.000  0.000    0.0000   \n",
       "1  0.00  1.000  0.000    0.0000   \n",
       "2  0.39  0.441  0.169   -0.4588   \n",
       "3  0.00  1.000  0.000    0.0000   \n",
       "4  0.00  1.000  0.000    0.0000   \n",
       "\n",
       "                                            headline     label  \n",
       "0                 Time-Lapse | dandelion faded seeds   neutral  \n",
       "1  Time is not an illusion. It’s an object with p...   neutral  \n",
       "2    Reason why the ability to stop time is terrible  negative  \n",
       "3                            If you think about it !   neutral  \n",
       "4  Metabolic Process and time… if u stand on side...   neutral  "
      ]
     },
     "execution_count": 10,
     "metadata": {},
     "output_type": "execute_result"
    }
   ],
   "source": [
    "df['label']='neutral'\n",
    "df.loc[df['compound'] > 0.2, 'label'] = 'positive'\n",
    "df.loc[df['compound'] < -0.2, 'label'] = 'negative'\n",
    "df.head()"
   ]
  },
  {
   "cell_type": "code",
   "execution_count": 11,
   "metadata": {},
   "outputs": [],
   "source": [
    "df2 = df[['headline','label']]"
   ]
  },
  {
   "cell_type": "code",
   "execution_count": 12,
   "metadata": {},
   "outputs": [],
   "source": [
    "df2=df2[df2.label != 'neutral']"
   ]
  },
  {
   "cell_type": "code",
   "execution_count": 13,
   "metadata": {},
   "outputs": [],
   "source": [
    "df2.to_csv('reddit_data.csv' , encoding='utf-8' , index=False)"
   ]
  },
  {
   "cell_type": "code",
   "execution_count": 14,
   "metadata": {},
   "outputs": [
    {
     "data": {
      "text/plain": [
       "positive    165\n",
       "negative    113\n",
       "Name: label, dtype: int64"
      ]
     },
     "execution_count": 14,
     "metadata": {},
     "output_type": "execute_result"
    }
   ],
   "source": [
    "df2.label.value_counts()"
   ]
  },
  {
   "cell_type": "code",
   "execution_count": 15,
   "metadata": {},
   "outputs": [
    {
     "data": {
      "text/plain": [
       "positive    59.352518\n",
       "negative    40.647482\n",
       "Name: label, dtype: float64"
      ]
     },
     "execution_count": 15,
     "metadata": {},
     "output_type": "execute_result"
    }
   ],
   "source": [
    "df2.label.value_counts(normalize=True) * 100"
   ]
  },
  {
   "cell_type": "code",
   "execution_count": 18,
   "metadata": {},
   "outputs": [
    {
     "data": {
      "image/png": "[encoded data removed]",
      "text/plain": [
       "<Figure size 576x576 with 1 Axes>"
      ]
     },
     "metadata": {
      "needs_background": "light"
     },
     "output_type": "display_data"
    }
   ],
   "source": [
    "fig, ax= plt.subplots(figsize=(8,8))\n",
    "counts=df2.label.value_counts(normalize=True) * 100\n",
    "sns.barplot(x=counts.index, y=counts, ax=ax)\n",
    "\n",
    "ax.set_xticklabels(['Negative', 'Positive'])\n",
    "ax.set_ylabel(\"Percentage\")\n",
    "\n",
    "plt.show()"
   ]
  },
  {
   "cell_type": "code",
   "execution_count": null,
   "metadata": {},
   "outputs": [],
   "source": []
  }
 ],
 "metadata": {
  "kernelspec": {
   "display_name": "Python 3",
   "language": "python",
   "name": "python3"
  },
  "language_info": {
   "codemirror_mode": {
    "name": "ipython",
    "version": 3
   },
   "file_extension": ".py",
   "mimetype": "text/x-python",
   "name": "python",
   "nbconvert_exporter": "python",
   "pygments_lexer": "ipython3",
   "version": "3.7.3"
  }
 },
 "nbformat": 4,
 "nbformat_minor": 2
}
